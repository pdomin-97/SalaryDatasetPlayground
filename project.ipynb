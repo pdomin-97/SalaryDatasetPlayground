{
 "cells": [
  {
   "cell_type": "code",
   "execution_count": 1,
   "metadata": {},
   "outputs": [],
   "source": [
    "import numpy as np\n",
    "import pandas as pd\n",
    "import matplotlib.pyplot as plt\n",
    "import os, sys\n",
    "import sqlite3 \n",
    "import plotly.express as px"
   ]
  },
  {
   "cell_type": "code",
   "execution_count": 2,
   "metadata": {},
   "outputs": [],
   "source": [
    "salaries  = pd.read_csv ('ds_salaries.csv', index_col=0)"
   ]
  },
  {
   "cell_type": "code",
   "execution_count": 8,
   "metadata": {},
   "outputs": [
    {
     "data": {
      "text/plain": [
       "607"
      ]
     },
     "execution_count": 8,
     "metadata": {},
     "output_type": "execute_result"
    }
   ],
   "source": [
    "conn = sqlite3.connect(\"dssalaries.db\")\n",
    "cursor = conn.cursor\n",
    "salaries.to_sql(\"salaries\", con = conn, if_exists='replace')"
   ]
  },
  {
   "cell_type": "code",
   "execution_count": null,
   "metadata": {},
   "outputs": [],
   "source": [
    "#Showing top 10 salaries for Data Science title \n",
    "\n",
    "\n",
    "Top_DS_Salaries = pd.read_sql_query(\"\"\"\n",
    "                    SELECT salary_in_usd, experience_Level, employment_type, employee_residence, remote_ratio, company_location, company_size\n",
    "                    FROM salaries\n",
    "                    WHERE Job_title = 'Data Scientist'\n",
    "                    ORDER BY salary_in_usd DESC\n",
    "                    LIMIT 10\n",
    "                    \"\"\", conn)\n",
    "\n",
    "print(Top_DS_Salaries)\n"
   ]
  },
  {
   "cell_type": "code",
   "execution_count": 65,
   "metadata": {},
   "outputs": [
    {
     "name": "stdout",
     "output_type": "stream",
     "text": [
      "                 job_title  work_year  salary_in_usd\n",
      "0       Research Scientist       2020         450000\n",
      "1  Principal Data Engineer       2021         600000\n",
      "2      Data Analytics Lead       2022         405000\n"
     ]
    }
   ],
   "source": [
    "#Showing best salary each year \n",
    "\n",
    "\n",
    "Top_Salary_Each_Year = pd.read_sql_query(\"\"\"\n",
    "                    SELECT job_title, work_year, MAX(salary_in_usd) as salary_in_usd\n",
    "                    FROM salaries\n",
    "                    GROUP BY work_year\n",
    "                    \"\"\", conn)\n",
    "\n",
    "print(Top_Salary_Each_Year)\n"
   ]
  },
  {
   "cell_type": "code",
   "execution_count": 81,
   "metadata": {},
   "outputs": [
    {
     "name": "stdout",
     "output_type": "stream",
     "text": [
      "   remote_ratio  AVG(salary_in_usd)  jobs\n",
      "0             0       106354.622047   127\n",
      "1            50        80823.030303    99\n",
      "2           100       122457.454068   381\n"
     ]
    }
   ],
   "source": [
    "#Average salary vs amout of time spent working remotely ( 0 - no remote work, 50 - Partially remote, 100 - Fully remote)\n",
    "\n",
    "AVG_salary_vs_remote_ratio = pd.read_sql_query(\"\"\"\n",
    "                    SELECT remote_ratio, AVG(salary_in_usd), count(job_title) as jobs\n",
    "                    FROM salaries\n",
    "                    GROUP BY remote_ratio\n",
    "                    \"\"\", conn)\n",
    "\n",
    "print(AVG_salary_vs_remote_ratio)\n"
   ]
  },
  {
   "cell_type": "code",
   "execution_count": 85,
   "metadata": {},
   "outputs": [
    {
     "name": "stdout",
     "output_type": "stream",
     "text": [
      "      job_title  max_salary company_location\n",
      "0  Data Analyst      200000               US\n",
      "1  Data Analyst      130000               CA\n",
      "2  Data Analyst       65438               GB\n",
      "3  Data Analyst       63831               DE\n",
      "4  Data Analyst       59102               FR\n",
      "5  Data Analyst       43966               GR\n",
      "6  Data Analyst       43966               ES\n",
      "7  Data Analyst       10000               NG\n",
      "8  Data Analyst        8000               PK\n",
      "9  Data Analyst        6072               IN\n"
     ]
    }
   ],
   "source": [
    "#Top 10 best paying countries for Data Analyst role\n",
    "\n",
    "top_ten_countries = pd.read_sql_query(\"\"\"\n",
    "                    SELECT job_title, MAX(salary_in_usd) as max_salary, company_location\n",
    "                    FROM salaries\n",
    "                    WHERE job_title = 'Data Analyst'\n",
    "                    GROUP BY company_location\n",
    "                    ORDER BY max_salary DESC\n",
    "                    \"\"\", conn)\n",
    "\n",
    "print(top_ten_countries )\n"
   ]
  },
  {
   "cell_type": "code",
   "execution_count": null,
   "metadata": {},
   "outputs": [],
   "source": []
  }
 ],
 "metadata": {
  "kernelspec": {
   "display_name": "Python 3.10.4 64-bit",
   "language": "python",
   "name": "python3"
  },
  "language_info": {
   "codemirror_mode": {
    "name": "ipython",
    "version": 3
   },
   "file_extension": ".py",
   "mimetype": "text/x-python",
   "name": "python",
   "nbconvert_exporter": "python",
   "pygments_lexer": "ipython3",
   "version": "3.10.4"
  },
  "orig_nbformat": 4,
  "vscode": {
   "interpreter": {
    "hash": "916dbcbb3f70747c44a77c7bcd40155683ae19c65e1c03b4aa3499c5328201f1"
   }
  }
 },
 "nbformat": 4,
 "nbformat_minor": 2
}
